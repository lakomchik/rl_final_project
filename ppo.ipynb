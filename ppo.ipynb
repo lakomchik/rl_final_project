{
 "cells": [
  {
   "cell_type": "code",
   "execution_count": 96,
   "metadata": {},
   "outputs": [],
   "source": [
    "# from pyglet.window import key\n",
    "import numpy as np\n",
    "from agar.Env import AgarEnv\n",
    "import time\n",
    "import torch\n",
    "import torch.nn as nn\n",
    "import torch.optim as optim\n",
    "render = False\n",
    "num_agents = 1\n",
    "\n",
    "\n",
    "class Args:\n",
    "    def __init__(self):\n",
    "\n",
    "        self.num_controlled_agent = num_agents\n",
    "        self.num_processes = 64\n",
    "        self.action_repeat = 1\n",
    "        self.total_step = 1e8\n",
    "        self.r_alpha = 0.1\n",
    "        self.r_beta = 0.1\n",
    "        self.seed = 42\n",
    "        self.gamma = 0.99\n",
    "        self.eval = True\n",
    "\n",
    "def calculate_reward(observations):\n",
    "    total_rewards = []\n",
    "    for agent in observations:\n",
    "        if observations[agent][\"metadata\"][\"is_killed\"]:\n",
    "            observations[agent] = 0\n",
    "            continue\n",
    "        reward = 0\n",
    "        for food in observations[agent][\"food\"]:\n",
    "            reward += 1 / food[\"relative_position_x^2 + relative_position_y^2\"]\n",
    "        total_rewards.append(reward)\n",
    "    return total_rewards\n"
   ]
  },
  {
   "cell_type": "code",
   "execution_count": 97,
   "metadata": {},
   "outputs": [],
   "source": [
    "class Memory:\n",
    "    def __init__(self):\n",
    "        self.states = []\n",
    "        self.actions = []\n",
    "        self.rewards = []\n",
    "        self.logprobs = []\n",
    "        self.values = []\n",
    "        self.next_value = None\n",
    "\n",
    "    def clear(self):\n",
    "        del self.states[:]\n",
    "        del self.actions[:]\n",
    "        del self.rewards[:]\n",
    "        del self.logprobs[:]\n",
    "        del self.values[:]\n",
    "        del self.masks[:]\n",
    "        self.next_value = None"
   ]
  },
  {
   "cell_type": "code",
   "execution_count": 102,
   "metadata": {},
   "outputs": [],
   "source": [
    "class TransformerModel(nn.Module):\n",
    "    def __init__(self,input_dim, dim_hidden, output_dim):\n",
    "        super().__init__()\n",
    "        self.fc1 = torch.nn.Sequential(\n",
    "            torch.nn.Linear(input_dim, dim_hidden),\n",
    "            torch.nn.ReLU(),\n",
    "            torch.nn.Linear(dim_hidden, dim_hidden)\n",
    "        )\n",
    "        self.transformer = nn.TransformerEncoderLayer(d_model=dim_hidden, nhead=8)\n",
    "        self.fc2 = torch.nn.Sequential(\n",
    "            torch.nn.Linear(dim_hidden, output_dim)\n",
    "        )\n",
    "    def forward(self, x):\n",
    "        out = self.fc1(x)\n",
    "        out = out.permute(1, 0, 2)\n",
    "        out = self.transformer(out)\n",
    "        out = out.permute(1, 0, 2)\n",
    "        out = self.fc2(out)\n",
    "        return out"
   ]
  },
  {
   "cell_type": "code",
   "execution_count": 103,
   "metadata": {},
   "outputs": [],
   "source": [
    "agent_transformer = TransformerModel(578, 512, 3)\n",
    "critic_transformer = TransformerModel(578, 512, 1)"
   ]
  },
  {
   "cell_type": "code",
   "execution_count": null,
   "metadata": {},
   "outputs": [],
   "source": []
  }
 ],
 "metadata": {
  "kernelspec": {
   "display_name": "Python 3",
   "language": "python",
   "name": "python3"
  },
  "language_info": {
   "codemirror_mode": {
    "name": "ipython",
    "version": 3
   },
   "file_extension": ".py",
   "mimetype": "text/x-python",
   "name": "python",
   "nbconvert_exporter": "python",
   "pygments_lexer": "ipython3",
   "version": "3.9.18"
  }
 },
 "nbformat": 4,
 "nbformat_minor": 2
}
