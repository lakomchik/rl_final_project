{
 "cells": [
  {
   "cell_type": "code",
   "execution_count": null,
   "metadata": {},
   "outputs": [],
   "source": [
    "import gymnasium as gym\n",
    "\n",
    "from stable_baselines3 import PPO\n",
    "from stable_baselines3.common.env_util import make_vec_env\n",
    "\n",
    "# Parallel environments\n",
    "vec_env = make_vec_env(\"CartPole-v1\",seed=0, n_envs=2)\n",
    "\n",
    "model = PPO(\"MlpPolicy\", vec_env, verbose=1)\n",
    "model.learn(total_timesteps=25000)\n",
    "model.save(\"ppo_agar_io\")\n",
    "\n",
    "del model # remove to demonstrate saving and loading\n",
    "\n",
    "model = PPO.load(\"ppo_agar_io\")\n",
    "\n",
    "obs = vec_env.reset()\n",
    "while True:\n",
    "    action, _states = model.predict(obs)\n",
    "    print(_states.shape)\n",
    "    # obs, rewards, dones, info = vec_env.step(action)\n",
    "    # vec_env.render(\"human\")"
   ]
  },
  {
   "cell_type": "code",
   "execution_count": 4,
   "metadata": {},
   "outputs": [],
   "source": [
    "import numpy as np"
   ]
  },
  {
   "cell_type": "code",
   "execution_count": 25,
   "metadata": {},
   "outputs": [],
   "source": [
    "#convert observations to numpy array\n",
    "c=[[0.24722777193253823, 1.0864478241664053], [11.0, 0.0], [22.0, 0.0], [False]]"
   ]
  },
  {
   "cell_type": "code",
   "execution_count": 30,
   "metadata": {},
   "outputs": [],
   "source": [
    "c_array = np.array(c, dtype=float)"
   ]
  },
  {
   "cell_type": "code",
   "execution_count": 31,
   "metadata": {},
   "outputs": [
    {
     "data": {
      "text/plain": [
       "array([ 0.24722777,  1.08644782, 11.        ,  0.        , 22.        ,\n",
       "        0.        ,  0.        ])"
      ]
     },
     "execution_count": 31,
     "metadata": {},
     "output_type": "execute_result"
    }
   ],
   "source": [
    "c_array "
   ]
  },
  {
   "cell_type": "code",
   "execution_count": 29,
   "metadata": {},
   "outputs": [
    {
     "ename": "SyntaxError",
     "evalue": "can't use starred expression here (3068832564.py, line 1)",
     "output_type": "error",
     "traceback": [
      "\u001b[1;36m  Cell \u001b[1;32mIn[29], line 1\u001b[1;36m\u001b[0m\n\u001b[1;33m    c=*c\u001b[0m\n\u001b[1;37m      ^\u001b[0m\n\u001b[1;31mSyntaxError\u001b[0m\u001b[1;31m:\u001b[0m can't use starred expression here\n"
     ]
    }
   ],
   "source": [
    "c=*c"
   ]
  },
  {
   "cell_type": "code",
   "execution_count": 26,
   "metadata": {},
   "outputs": [],
   "source": [
    "c = [item for sublist in c for item in sublist]\n",
    "c = np.asarray(c)"
   ]
  },
  {
   "cell_type": "code",
   "execution_count": 27,
   "metadata": {},
   "outputs": [
    {
     "data": {
      "text/plain": [
       "array([ 0.24722777,  1.08644782, 11.        ,  0.        , 22.        ,\n",
       "        0.        ,  0.        ])"
      ]
     },
     "execution_count": 27,
     "metadata": {},
     "output_type": "execute_result"
    }
   ],
   "source": [
    "c"
   ]
  },
  {
   "cell_type": "code",
   "execution_count": 5,
   "metadata": {},
   "outputs": [],
   "source": [
    "obs2rl=np.zeros(16)\n",
    "a=[1,2,3,4]\n",
    "b=[1,2,3,4]"
   ]
  },
  {
   "cell_type": "code",
   "execution_count": null,
   "metadata": {},
   "outputs": [],
   "source": []
  },
  {
   "cell_type": "code",
   "execution_count": 8,
   "metadata": {},
   "outputs": [
    {
     "ename": "SyntaxError",
     "evalue": "invalid syntax (1366516897.py, line 1)",
     "output_type": "error",
     "traceback": [
      "\u001b[1;36m  Cell \u001b[1;32mIn[8], line 1\u001b[1;36m\u001b[0m\n\u001b[1;33m    obs2rl=obs2rl[]+np.array(a)\u001b[0m\n\u001b[1;37m                  ^\u001b[0m\n\u001b[1;31mSyntaxError\u001b[0m\u001b[1;31m:\u001b[0m invalid syntax\n"
     ]
    }
   ],
   "source": [
    "for i in range (0,len(obs2rl)):\n",
    "    obs2rl[i]=a"
   ]
  },
  {
   "cell_type": "code",
   "execution_count": null,
   "metadata": {},
   "outputs": [],
   "source": [
    "\n",
    "obs2rl[:]=np.zeros()+observations_short[0][:],observations_short[1][:], observations_short[2][:], observations_short[3]"
   ]
  },
  {
   "cell_type": "code",
   "execution_count": 1,
   "metadata": {},
   "outputs": [],
   "source": [
    "# from pyglet.window import key\n",
    "import numpy as np\n",
    "from agar.Env import AgarEnv\n",
    "import time\n",
    "import torch\n",
    "import torch.nn as nn\n",
    "import torch.optim as optim\n",
    "render = False\n",
    "num_agents = 1\n",
    "\n",
    "\n",
    "class Args:\n",
    "    def __init__(self):\n",
    "\n",
    "        self.num_controlled_agent = num_agents\n",
    "        self.num_processes = 64\n",
    "        self.action_repeat = 1\n",
    "        self.total_step = 1e8\n",
    "        self.r_alpha = 0.1\n",
    "        self.r_beta = 0.1\n",
    "        self.seed = 42\n",
    "        self.gamma = 0.99\n",
    "        self.eval = True\n",
    "\n",
    "def calculate_reward(observations):\n",
    "    total_rewards = []\n",
    "    for agent in observations:\n",
    "        if observations[agent][\"metadata\"][\"is_killed\"]:\n",
    "            observations[agent] = 0\n",
    "            continue\n",
    "        reward = 0\n",
    "        for food in observations[agent][\"food\"]:\n",
    "            reward += 1 / food[\"relative_position_x^2 + relative_position_y^2\"]\n",
    "        total_rewards.append(reward)\n",
    "    return total_rewards\n"
   ]
  },
  {
   "cell_type": "code",
   "execution_count": 2,
   "metadata": {},
   "outputs": [],
   "source": [
    "class Memory:\n",
    "    def __init__(self):\n",
    "        self.states = []\n",
    "        self.actions = []\n",
    "        self.rewards = []\n",
    "        self.logprobs = []\n",
    "        self.values = []\n",
    "        self.next_value = None\n",
    "\n",
    "    def clear(self):\n",
    "        del self.states[:]\n",
    "        del self.actions[:]\n",
    "        del self.rewards[:]\n",
    "        del self.logprobs[:]\n",
    "        del self.values[:]\n",
    "        del self.masks[:]\n",
    "        self.next_value = None"
   ]
  },
  {
   "cell_type": "code",
   "execution_count": 3,
   "metadata": {},
   "outputs": [],
   "source": [
    "class TransformerModel(nn.Module):\n",
    "    def __init__(self,input_dim, dim_hidden, output_dim):\n",
    "        super().__init__()\n",
    "        self.fc1 = torch.nn.Sequential(\n",
    "            torch.nn.Linear(input_dim, dim_hidden),\n",
    "            torch.nn.ReLU(),\n",
    "            torch.nn.Linear(dim_hidden, dim_hidden)\n",
    "        )\n",
    "        self.transformer = nn.TransformerEncoderLayer(d_model=dim_hidden, nhead=8)\n",
    "        self.fc2 = torch.nn.Sequential(\n",
    "            torch.nn.Linear(dim_hidden, output_dim)\n",
    "        )\n",
    "    def forward(self, x):\n",
    "        out = self.fc1(x)\n",
    "        out = out.permute(1, 0, 2)\n",
    "        out = self.transformer(out)\n",
    "        out = out.permute(1, 0, 2)\n",
    "        out = self.fc2(out)\n",
    "        return out"
   ]
  },
  {
   "cell_type": "code",
   "execution_count": 4,
   "metadata": {},
   "outputs": [],
   "source": [
    "# i need to learn stohaistic policy gradient\n",
    "agent_transformer = TransformerModel(578, 512, 3)\n",
    "critic_transformer = TransformerModel(578, 512, 1)"
   ]
  },
  {
   "cell_type": "code",
   "execution_count": null,
   "metadata": {},
   "outputs": [],
   "source": []
  }
 ],
 "metadata": {
  "kernelspec": {
   "display_name": "Python 3",
   "language": "python",
   "name": "python3"
  },
  "language_info": {
   "codemirror_mode": {
    "name": "ipython",
    "version": 3
   },
   "file_extension": ".py",
   "mimetype": "text/x-python",
   "name": "python",
   "nbconvert_exporter": "python",
   "pygments_lexer": "ipython3",
   "version": "3.9.16"
  }
 },
 "nbformat": 4,
 "nbformat_minor": 2
}
